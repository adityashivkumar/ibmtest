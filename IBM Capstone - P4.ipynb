{
 "cells": [
  {
   "cell_type": "markdown",
   "metadata": {},
   "source": [
    "# IBM - Applied Data Science Capstone - Battle of Neighborhoods Week4"
   ]
  },
  {
   "cell_type": "markdown",
   "metadata": {},
   "source": [
    "## Tasks\n",
    "1. Identify a business problem \n",
    "2. Define the business problem \n",
    "3. Describe how data can be used to solve the problem\n",
    "4. Describe how Fourquare data can be leveraged \n",
    "5. Use data science to provide a solution \n",
    "6. Interpret and explain the results \n",
    "7. Report interpretation and results in a concise report\n",
    "\n",
    "**Tasks 1-4 are part of Week 4 exercise. Tasks 5-7 are part of Week 5 exercise.**\n"
   ]
  },
  {
   "cell_type": "markdown",
   "metadata": {},
   "source": [
    "---"
   ]
  },
  {
   "cell_type": "markdown",
   "metadata": {},
   "source": [
    "### Introduction/Business Problem"
   ]
  },
  {
   "cell_type": "markdown",
   "metadata": {},
   "source": [
    "A beer connoisseur would like to visit breweries across United States to supplement his research on attributes that make a brewery commercially successful.  The end goal is to assess whether there are business opportunities in the beer brewing industry and to identify drivers that increase the likelihood of establishing a successful brewery. There are numerous attributes that draw more customers to a venue or a product. Besides obvious and intrinsic factors such as quality, uniqueness and taste, extrinsic factors such as market demand, location, and brand play important roles in determining the viability of a brewery business. Some of the external factors can be studied using data. Population density is a simple proxy for exploring the impact of market demand, and the influence of location can be studied by exploring the places around successful breweries. These two aspects can be studied concurrently by exploring the locations around successful breweries in big populated cities across the united states.\n",
    "\n",
    "The beer enthusiast intends to use his beer palate to reveal the qualitative aspects of a good product and use data analysis to quantitatively assess what makes a brewery thrive. The task at hand involves the following steps: (1) select top N big cities in the country; (2) identify highly rated breweries in each city; (3) explore the location of breweries and identify commonalities among them using clustering;(4) interpret the results and assess business viability in light of this assessment. The insights gleaned from studying successful breweries will supplement the development of a business plan to establish a new brewery. "
   ]
  },
  {
   "cell_type": "markdown",
   "metadata": {},
   "source": [
    "### Data Requirements"
   ]
  },
  {
   "cell_type": "markdown",
   "metadata": {},
   "source": [
    "Data required corresponding to each step discussed above:\n",
    "1.\tA list of cities with their population density/size along with their coordinates – The data points are widely available, albeit not well organized. A free tier on Simplemaps.com provides access to a list of world cities with their coordinates and population. https://simplemaps.com/data/us-cities\n",
    "2.\tFoursquare API can be leveraged to identify top ‘liked’ breweries in each city selected in step 1. \n",
    "3.\tFoursquare API can be leveraged to explore the location/vicinity of selected breweries. \n",
    "4.\tVicinity attributes of each brewery across the country can be grouped and analyzed."
   ]
  },
  {
   "cell_type": "code",
   "execution_count": null,
   "metadata": {},
   "outputs": [],
   "source": []
  }
 ],
 "metadata": {
  "kernelspec": {
   "display_name": "Python 3",
   "language": "python",
   "name": "python3"
  },
  "language_info": {
   "codemirror_mode": {
    "name": "ipython",
    "version": 3
   },
   "file_extension": ".py",
   "mimetype": "text/x-python",
   "name": "python",
   "nbconvert_exporter": "python",
   "pygments_lexer": "ipython3",
   "version": "3.7.4"
  }
 },
 "nbformat": 4,
 "nbformat_minor": 2
}
